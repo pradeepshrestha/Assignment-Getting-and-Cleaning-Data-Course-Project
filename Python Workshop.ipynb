{
  "nbformat": 4,
  "nbformat_minor": 0,
  "metadata": {
    "colab": {
      "name": "Untitled0.ipynb",
      "provenance": [],
      "include_colab_link": true
    },
    "kernelspec": {
      "name": "python3",
      "display_name": "Python 3"
    }
  },
  "cells": [
    {
      "cell_type": "markdown",
      "metadata": {
        "id": "view-in-github",
        "colab_type": "text"
      },
      "source": [
        "<a href=\"https://colab.research.google.com/github/pradeepshrestha/Assignment-Getting-and-Cleaning-Data-Course-Project/blob/master/Python%20Workshop.ipynb\" target=\"_parent\"><img src=\"https://colab.research.google.com/assets/colab-badge.svg\" alt=\"Open In Colab\"/></a>"
      ]
    },
    {
      "cell_type": "code",
      "metadata": {
        "id": "fanoB_Ff9B2h",
        "colab_type": "code",
        "colab": {
          "base_uri": "https://localhost:8080/",
          "height": 68
        },
        "outputId": "e3aeb490-67bc-454c-bc57-c5c8fc5adbcd"
      },
      "source": [
        "# Q: Get two neumbers and display their the sum!\n",
        "a = 10\n",
        "b = 20\n",
        "sum = a + b\n",
        "print(sum)\n",
        "print(f\"Sum is {sum}\")\n",
        "print(f\"Sum of {a} and {b} is {sum}\")"
      ],
      "execution_count": 14,
      "outputs": [
        {
          "output_type": "stream",
          "text": [
            "sum\n",
            "Sum is 30\n",
            "Sum of 10 and 20 is 30\n"
          ],
          "name": "stdout"
        }
      ]
    },
    {
      "cell_type": "code",
      "metadata": {
        "id": "Ti0W0cPA-woT",
        "colab_type": "code",
        "colab": {
          "base_uri": "https://localhost:8080/",
          "height": 102
        },
        "outputId": "799e21c1-236e-44e4-e3d6-f8b80b2dd8eb"
      },
      "source": [
        "a = int(input(\"Enter in a: \"))\n",
        "b = int(input(\"Enter in b: \"))\n",
        "sum = a + b\n",
        "print(sum)\n",
        "print(f\"Sum is {sum}\")\n",
        "print(f\"Sum of {a} and {b} is {sum}\")\n",
        "\n",
        "# check for isdigit"
      ],
      "execution_count": 18,
      "outputs": [
        {
          "output_type": "stream",
          "text": [
            "Enter in a: 2\n",
            "Enter in b: 2\n",
            "4\n",
            "Sum is 4\n",
            "Sum of 2 and 2 is 4\n"
          ],
          "name": "stdout"
        }
      ]
    },
    {
      "cell_type": "code",
      "metadata": {
        "id": "EWHefW79-84s",
        "colab_type": "code",
        "colab": {
          "base_uri": "https://localhost:8080/",
          "height": 51
        },
        "outputId": "dbe7f676-a900-45cf-f9ff-5952932a43f5"
      },
      "source": [
        "a = int(input(\"Enter in a: \"))\n",
        "rem = a%2\n",
        "if rem == 0:\n",
        "  print(\"Even\")\n",
        "else:\n",
        "  print(\"Odd\")\n",
        "# : is used for indentation in py"
      ],
      "execution_count": 22,
      "outputs": [
        {
          "output_type": "stream",
          "text": [
            "Enter in a: 110\n",
            "Even\n"
          ],
          "name": "stdout"
        }
      ]
    },
    {
      "cell_type": "code",
      "metadata": {
        "id": "RYohX0h9B6G5",
        "colab_type": "code",
        "colab": {
          "base_uri": "https://localhost:8080/",
          "height": 51
        },
        "outputId": "50e15374-e869-4734-e4b0-3e32552ef995"
      },
      "source": [
        "n = int(input(\"Enter a number: \"))\n",
        "rem1 = a%3\n",
        "rem2 = a%7\n",
        "if rem1 == 0 and rem2 == 0:\n",
        "  print(\"Divisible by both\")\n",
        "elif rem1 == 0:\n",
        "  print(\"Divisible by 3\")\n",
        "elif rem2 == 0 :\n",
        "  print(\"Divisible by 7\")\n",
        "else:\n",
        "  print(\"Not Divisible by both\")"
      ],
      "execution_count": 31,
      "outputs": [
        {
          "output_type": "stream",
          "text": [
            "Enter a number: 21\n",
            "Divisible by both\n"
          ],
          "name": "stdout"
        }
      ]
    },
    {
      "cell_type": "code",
      "metadata": {
        "id": "upuIEef_EVfr",
        "colab_type": "code",
        "colab": {}
      },
      "source": [
        ""
      ],
      "execution_count": 0,
      "outputs": []
    }
  ]
}